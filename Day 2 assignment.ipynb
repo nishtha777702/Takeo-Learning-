{
 "cells": [
  {
   "cell_type": "markdown",
   "id": "92234c38-a26b-41dd-a8b2-69f86a2dd8e1",
   "metadata": {},
   "source": [
    "Task 1 : Simple Voting eligibility check \n",
    "Task : write a program that checks if a use is eligible to vote \n",
    "-ask the user for thir age and use a conditional statement to check if they are at least 18 years old.\n",
    "-Print a message indicating whether they are eligible to ote or not."
   ]
  },
  {
   "cell_type": "code",
   "execution_count": 2,
   "id": "7d9ca76c-adf3-46c3-b399-2a90111d02bc",
   "metadata": {},
   "outputs": [
    {
     "name": "stdin",
     "output_type": "stream",
     "text": [
      "Enter your age:  18\n"
     ]
    },
    {
     "name": "stdout",
     "output_type": "stream",
     "text": [
      "You are eligible to vote\n"
     ]
    }
   ],
   "source": [
    "# checking voting eligibility\n",
    "age = int(input(\"Enter your age: \"))\n",
    "if age >=18:\n",
    "    print(\"You are eligible to vote\")\n",
    "else:\n",
    "    print(\"You are not eligible to vote\")"
   ]
  },
  {
   "cell_type": "markdown",
   "id": "2ddf1f86-14a0-45ef-83c8-5b81447e6bd1",
   "metadata": {},
   "source": [
    "Task2: Create a simple calculator that performs basic arithmetic operations.\n",
    "• Instructions:\n",
    "– Prompt the user for two numbers and an operation (addition, subtraction,\n",
    "multiplication, or division).\n",
    "– Use conditional statements to perform the requested operation and display the\n",
    "result."
   ]
  },
  {
   "cell_type": "code",
   "execution_count": 32,
   "id": "b26b279f-7987-4e19-a9b8-05bb54c43c02",
   "metadata": {},
   "outputs": [
    {
     "name": "stdin",
     "output_type": "stream",
     "text": [
      "Enter first number:  3\n",
      "Enter second number:  4\n",
      "Enter operation (+, -, *, /):  /\n"
     ]
    },
    {
     "name": "stdout",
     "output_type": "stream",
     "text": [
      "Result: 0.75\n"
     ]
    }
   ],
   "source": [
    "# creating a calculator that perform basic arithemetic o[erations.\n",
    "#1. Find the maximun and minimum of a list\n",
    "# give a list of numbers,find the maximun and minimum values.\n",
    "\n",
    "import math  # import allows to bring external modules or librabries into your python program \n",
    "\n",
    "def calculator():   # def defines a funtions for performing specific task\n",
    "    num1 = int(input(\"Enter first number: \"))\n",
    "    num2 = int(input(\"Enter second number: \"))\n",
    "    operation = input(\"Enter operation (+, -, *, /): \") \n",
    "    if operation == \"+\":\n",
    "       print(\"Result:\", num1 + num2)\n",
    "    elif operation == \"-\":\n",
    "       print(\"Result:\" , num1 - num2)\n",
    "    elif operation == \"*\":\n",
    "       print(\"Result:\" , num1 * num2)\n",
    "    elif operation == \"/\":\n",
    "        if num1 != 0:\n",
    "            print(\"Result:\" , num1 / num2)\n",
    "        else:\n",
    "            print(\"Cannot divide by zero\")\n",
    "    else:\n",
    "            print(\"Invalid operator\")\n",
    "        \n",
    "\n",
    "# now call the functions to test\n",
    "calculator()"
   ]
  },
  {
   "cell_type": "code",
   "execution_count": 34,
   "id": "27c5b40b-701f-43f0-a595-39d0994a1825",
   "metadata": {},
   "outputs": [
    {
     "name": "stdin",
     "output_type": "stream",
     "text": [
      "Enter numbers separated by spaces:  1 20\n"
     ]
    },
    {
     "name": "stdout",
     "output_type": "stream",
     "text": [
      "Max: 20 Min: 1\n"
     ]
    }
   ],
   "source": [
    " # To find the maximum and minimun list\n",
    "def find_max_min():\n",
    "    lst = list(map(int, input(\"Enter numbers separated by spaces: \").split()))\n",
    "    print(\"Max:\" , max(lst), \"Min:\" , min(lst))\n",
    "\n",
    "find_max_min()"
   ]
  },
  {
   "cell_type": "code",
   "execution_count": 49,
   "id": "0aff7bae-9799-497b-a8fe-077e4c64988b",
   "metadata": {},
   "outputs": [
    {
     "name": "stdin",
     "output_type": "stream",
     "text": [
      "Enter the number:  9\n"
     ]
    },
    {
     "name": "stdout",
     "output_type": "stream",
     "text": [
      "Not a prime number. \n"
     ]
    }
   ],
   "source": [
    "#Check for Prime Number\n",
    "# Write a function to check if a given number is a prime number.\n",
    "def prime():\n",
    "    n = int(input(\"Enter the number: \"))\n",
    "    if n < 2 or any(n % i == 0 for i in range(2, int(math.sqrt(n)) +1)):\n",
    "       print(\"Not a prime number. \")\n",
    "    else:\n",
    "       print(\"Prime number. \")\n",
    "prime()"
   ]
  },
  {
   "cell_type": "code",
   "execution_count": 47,
   "id": "d4abf35b-5dad-4325-b5bb-dd92498e0a95",
   "metadata": {},
   "outputs": [
    {
     "name": "stdin",
     "output_type": "stream",
     "text": [
      "Enter the number:  3\n"
     ]
    },
    {
     "name": "stdout",
     "output_type": "stream",
     "text": [
      "Factorial: 2\n",
      "Factorial: 6\n"
     ]
    }
   ],
   "source": [
    "#Factorial of a Number\n",
    " #Compute the factorial of a given number using recursion.\n",
    "def factorial(): #function\n",
    "    n = int(input(\"Enter the number: \")) # taking the input from user\n",
    "    fact = 1 # fact variable initializing\n",
    "    for i in range(2, n+1): # looping number from 2 to n \n",
    "        fact *= i # updating fact on each iteration # fact=fact*i\n",
    "        print(\"Factorial:\" , fact)\n",
    "\n",
    "factorial()"
   ]
  },
  {
   "cell_type": "code",
   "execution_count": 1,
   "id": "83f959a6-0bec-4536-ae6a-77869f4f5a2b",
   "metadata": {},
   "outputs": [
    {
     "name": "stdin",
     "output_type": "stream",
     "text": [
      "Enter the number of terms:  3\n"
     ]
    },
    {
     "name": "stdout",
     "output_type": "stream",
     "text": [
      "Fibonacci Sequence: [0, 1, 1]\n"
     ]
    }
   ],
   "source": [
    "# Fibonacci sequence in Python\n",
    "\n",
    "def fibonacci(n):\n",
    "    fib_sequence = [0, 1]  # Initializing first two terms\n",
    "    for i in range(2, n):\n",
    "        next_term = fib_sequence[-1] + fib_sequence[-2]\n",
    "        fib_sequence.append(next_term)\n",
    "    return fib_sequence[:n]\n",
    "\n",
    "# Input: Number of terms\n",
    "num_terms = int(input(\"Enter the number of terms: \"))\n",
    "\n",
    "# Generate Fibonacci sequence\n",
    "fib_sequence = fibonacci(num_terms)\n",
    "\n",
    "# Display output\n",
    "print(\"Fibonacci Sequence:\", fib_sequence)"
   ]
  },
  {
   "cell_type": "code",
   "execution_count": 3,
   "id": "eac55fad-b92b-4621-88c4-f03212525666",
   "metadata": {},
   "outputs": [
    {
     "name": "stdin",
     "output_type": "stream",
     "text": [
      "Enter an integer:  -76\n"
     ]
    },
    {
     "name": "stdout",
     "output_type": "stream",
     "text": [
      "Sum of digits: 13\n"
     ]
    }
   ],
   "source": [
    "#sum of digits\n",
    "def sum_of_digits(n):\n",
    "    n = abs(n)  # Convert negative to positive\n",
    "    digit_sum = 0  # Initialize sum to syore the total sum\n",
    "    for digit in str(n):  # Convert to string and loop through digits\n",
    "        digit_sum += int(digit)  # Convert back to integer and add to sum\n",
    "    return digit_sum  # Return the final sum\n",
    "\n",
    "# Input from user\n",
    "num = int(input(\"Enter an integer: \"))\n",
    "print(\"Sum of digits:\", sum_of_digits(num))\n",
    "\n"
   ]
  },
  {
   "cell_type": "code",
   "execution_count": 5,
   "id": "10ad428a-25fd-4e20-bd5b-1120674e008c",
   "metadata": {},
   "outputs": [
    {
     "name": "stdin",
     "output_type": "stream",
     "text": [
      "Enter a decimal number:  5\n"
     ]
    },
    {
     "name": "stdout",
     "output_type": "stream",
     "text": [
      "Binary representation: 101\n"
     ]
    }
   ],
   "source": [
    "#Convert Decimal to Binary\n",
    "#Convert a decimal number to its binary representation.using bin(n) built in function\n",
    "def decimal_to_binary(n):\n",
    "    return bin(n)[2:]  # bin() returns '0b...' prefix, so we remove the first two characters\n",
    "\n",
    "# Input from user\n",
    "num = int(input(\"Enter a decimal number: \"))\n",
    "print(\"Binary representation:\", decimal_to_binary(num))"
   ]
  },
  {
   "cell_type": "code",
   "execution_count": 6,
   "id": "68e724f5-82f7-40dc-b425-3066a776248c",
   "metadata": {},
   "outputs": [
    {
     "name": "stdin",
     "output_type": "stream",
     "text": [
      "Enter first number:  48\n",
      "Enter second number:  18\n"
     ]
    },
    {
     "name": "stdout",
     "output_type": "stream",
     "text": [
      "GCD of 48 and 18 is: 6\n"
     ]
    }
   ],
   "source": [
    "#Greatest Common Divisor (GCD) ---euclid alogrithm defines divide the number until the remainder is zero\n",
    "#  Compute the greatest common divisor of two numbers using Euclid’s alogorithm.\n",
    "\n",
    "def gcd(a, b):\n",
    "    while b:  # this keeps on running the loop when b =0\n",
    "        a, b = b, a % b  # Update a with b, and b with the remainder\n",
    "    return a  # Return the last non-zero value of a\n",
    "\n",
    "# Input from user\n",
    "num1 = int(input(\"Enter first number: \"))\n",
    "num2 = int(input(\"Enter second number: \"))\n",
    "\n",
    "# Compute and display the GCD\n",
    "print(\"GCD of\", num1, \"and\", num2, \"is:\", gcd(num1, num2))"
   ]
  },
  {
   "cell_type": "code",
   "execution_count": 7,
   "id": "d374f5bc-d178-4de9-bd23-efad12103b17",
   "metadata": {},
   "outputs": [
    {
     "name": "stdin",
     "output_type": "stream",
     "text": [
      "Enter a list of numbers separated by spaces:  34 56 78 98\n"
     ]
    },
    {
     "name": "stdout",
     "output_type": "stream",
     "text": [
      "The second largest number is: 78\n"
     ]
    }
   ],
   "source": [
    "# Find the Second Largest Number in a List\n",
    "# Given a list of numbers, find the second largest number.\n",
    "def second_largest(numbers):\n",
    "    # Step 1: Remove duplicates from the list\n",
    "    unique_numbers = list(set(numbers))\n",
    "\n",
    "    # Step 2: Sort the list from smallest to largest\n",
    "    unique_numbers.sort()\n",
    "\n",
    "    # Step 3: Check if there is a second largest number\n",
    "    if len(unique_numbers) < 2:\n",
    "        return None  # If there is no second largest number\n",
    "    return unique_numbers[-2]  # Return the second largest number\n",
    "\n",
    "# Step 4: Ask the user to give a list of numbers (e.g., 12 23 45 23)\n",
    "numbers = list(map(int, input(\"Enter a list of numbers separated by spaces: \").split()))\n",
    "\n",
    "# Step 5: Show the second largest number\n",
    "result = second_largest(numbers)\n",
    "if result is None:\n",
    "    print(\"There is no second largest number.\")\n",
    "else:\n",
    "    print(\"The second largest number is:\", result)"
   ]
  },
  {
   "cell_type": "code",
   "execution_count": 9,
   "id": "6ae3d86f-e0ec-4aec-9484-68fb3a8e6d00",
   "metadata": {},
   "outputs": [
    {
     "name": "stdin",
     "output_type": "stream",
     "text": [
      "Enter a number:  78975\n"
     ]
    },
    {
     "name": "stdout",
     "output_type": "stream",
     "text": [
      "The number of digits in 78975 is: 5\n"
     ]
    }
   ],
   "source": [
    "#Count the Number of Digits in a Number\n",
    "#Count the number of digits in a given integer\n",
    "def count_digits(n):\n",
    "    return len(str(abs(n)))  # Convert the number to a string and count its length\n",
    "# abs(n) =makes sure that if the number is negative, we ignore the neg sign\n",
    "#str(n) =converts the number into a string so we can count each digit.\n",
    "#len(str(n)) = counts how many characters (digits) are in the string\n",
    "\n",
    "# Input from user\n",
    "num = int(input(\"Enter a number: \"))\n",
    "\n",
    "# Count and display the number of digits\n",
    "print(\"The number of digits in\", num, \"is:\", count_digits(num))"
   ]
  },
  {
   "cell_type": "code",
   "execution_count": 11,
   "id": "ef2e3378-0666-42f2-bab3-7b6242c3639b",
   "metadata": {},
   "outputs": [
    {
     "name": "stdin",
     "output_type": "stream",
     "text": [
      "Enter a number:  8\n"
     ]
    },
    {
     "name": "stdout",
     "output_type": "stream",
     "text": [
      "8 is a power of two.\n"
     ]
    }
   ],
   "source": [
    "# Check if a Number is a Power of Two\n",
    "# Determine if a given number is a power of two.\n",
    "\n",
    "def is_power_of_two(n):\n",
    "    # Check if n is greater than 0 and if n & (n - 1) equals 0\n",
    "    return n > 0 and (n & (n - 1)) == 0\n",
    "\n",
    "# Input from the user\n",
    "num = int(input(\"Enter a number: \"))\n",
    "\n",
    "# Check if the number is a power of two and display the result\n",
    "if is_power_of_two(num):\n",
    "    print(num, \"is a power of two.\")\n",
    "else:\n",
    "    print(num, \"is not a power of two.\")\n"
   ]
  },
  {
   "cell_type": "code",
   "execution_count": null,
   "id": "4fe70d77-3f04-4f60-9e31-f4317b9a5608",
   "metadata": {},
   "outputs": [],
   "source": []
  }
 ],
 "metadata": {
  "kernelspec": {
   "display_name": "Python 3 (ipykernel)",
   "language": "python",
   "name": "python3"
  },
  "language_info": {
   "codemirror_mode": {
    "name": "ipython",
    "version": 3
   },
   "file_extension": ".py",
   "mimetype": "text/x-python",
   "name": "python",
   "nbconvert_exporter": "python",
   "pygments_lexer": "ipython3",
   "version": "3.12.7"
  }
 },
 "nbformat": 4,
 "nbformat_minor": 5
}
