{
 "cells": [
  {
   "cell_type": "code",
   "execution_count": 21,
   "id": "cea2a7a8-8517-4729-8b49-00378fd66555",
   "metadata": {},
   "outputs": [
    {
     "name": "stdout",
     "output_type": "stream",
     "text": [
      "   Student_ID  Delta_PSD  Theta_PSD  Alpha_PSD  Beta_PSD  Gamma_PSD  \\\n",
      "0           1   2.314088    1.74243   0.616145  1.450662   1.216755   \n",
      "\n",
      "   Pupil_Dilation  Blink_Rate  Fixation_Duration  Saccade_Velocity  \\\n",
      "0        1.494789          12                669        132.352746   \n",
      "\n",
      "  Learning_Content_Type Difficulty_Level  Engagement_Label  \n",
      "0                  Text             Easy                 0  \n",
      "      Student_ID  Delta_PSD  Theta_PSD  Alpha_PSD  Beta_PSD  Gamma_PSD  \\\n",
      "2999         300   0.552012   1.151505   1.551262  0.580686   0.508988   \n",
      "\n",
      "      Pupil_Dilation  Blink_Rate  Fixation_Duration  Saccade_Velocity  \\\n",
      "2999        2.155232          11                256        277.564819   \n",
      "\n",
      "     Learning_Content_Type Difficulty_Level  Engagement_Label  \n",
      "2999                  Text             Easy                 0  \n"
     ]
    }
   ],
   "source": [
    "import numpy as np\n",
    "import pandas as pd\n",
    "\n",
    "# load the student dataset\n",
    "df = pd.read_csv(\"Student.csv\")\n",
    "\n",
    "#Display in ascending order \n",
    "print(df.head(1))\n",
    "\n",
    " # Display in decending order\n",
    "print(df.tail(1))"
   ]
  },
  {
   "cell_type": "code",
   "execution_count": 18,
   "id": "74ebb1e6-45c1-4d11-9ed0-1c0d0573050a",
   "metadata": {},
   "outputs": [
    {
     "name": "stdout",
     "output_type": "stream",
     "text": [
      "<class 'pandas.core.frame.DataFrame'>\n",
      "RangeIndex: 3000 entries, 0 to 2999\n",
      "Data columns (total 13 columns):\n",
      " #   Column                 Non-Null Count  Dtype  \n",
      "---  ------                 --------------  -----  \n",
      " 0   Student_ID             3000 non-null   int64  \n",
      " 1   Delta_PSD              3000 non-null   float64\n",
      " 2   Theta_PSD              3000 non-null   float64\n",
      " 3   Alpha_PSD              3000 non-null   float64\n",
      " 4   Beta_PSD               3000 non-null   float64\n",
      " 5   Gamma_PSD              3000 non-null   float64\n",
      " 6   Pupil_Dilation         3000 non-null   float64\n",
      " 7   Blink_Rate             3000 non-null   int64  \n",
      " 8   Fixation_Duration      3000 non-null   int64  \n",
      " 9   Saccade_Velocity       3000 non-null   float64\n",
      " 10  Learning_Content_Type  3000 non-null   object \n",
      " 11  Difficulty_Level       3000 non-null   object \n",
      " 12  Engagement_Label       3000 non-null   int64  \n",
      "dtypes: float64(7), int64(4), object(2)\n",
      "memory usage: 304.8+ KB\n",
      "None\n"
     ]
    }
   ],
   "source": [
    "# selecting Data\n",
    "print (df.info(6))"
   ]
  },
  {
   "cell_type": "code",
   "execution_count": 18,
   "id": "0fbd3490-4711-46fa-aff1-0e365d157e72",
   "metadata": {},
   "outputs": [
    {
     "name": "stdout",
     "output_type": "stream",
     "text": [
      "Engagement_Label    5\n",
      "Name: 0, dtype: int64\n",
      "   Engagement_Label\n",
      "1                 6\n",
      "2                 7\n",
      "3                 8\n"
     ]
    }
   ],
   "source": [
    "import pandas as pd\n",
    "\n",
    "# Create DataFrame\n",
    "df = pd.DataFrame({\"Engagement_Label\": [5, 6, 7, 8]})\n",
    "\n",
    "# Access specific column\n",
    "column_data = df['Engagement_Label']\n",
    "\n",
    "column_data  \n",
    "\n",
    "# acess the first row\n",
    "first_row = df.iloc[0]\n",
    "print(first_row)\n",
    "\n",
    "\n",
    "# filtering\n",
    "filtered_data = df[df['Engagement_Label'] > 5]\n",
    "print(filtered_data)\n"
   ]
  }
 ],
 "metadata": {
  "kernelspec": {
   "display_name": "Python 3 (ipykernel)",
   "language": "python",
   "name": "python3"
  },
  "language_info": {
   "codemirror_mode": {
    "name": "ipython",
    "version": 3
   },
   "file_extension": ".py",
   "mimetype": "text/x-python",
   "name": "python",
   "nbconvert_exporter": "python",
   "pygments_lexer": "ipython3",
   "version": "3.12.7"
  }
 },
 "nbformat": 4,
 "nbformat_minor": 5
}
