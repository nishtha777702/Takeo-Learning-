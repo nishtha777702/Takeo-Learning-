{
 "cells": [
  {
   "cell_type": "code",
   "execution_count": 7,
   "id": "a0ae6398-24c3-4a5d-a495-6627d340c467",
   "metadata": {},
   "outputs": [
    {
     "name": "stdout",
     "output_type": "stream",
     "text": [
      "nis rai\n"
     ]
    }
   ],
   "source": [
    "# string concatenation\n",
    "str1 =\"nis\"\n",
    "str2 = \" rai\"\n",
    "sumstr= str1+str2\n",
    "print(sumstr)"
   ]
  },
  {
   "cell_type": "code",
   "execution_count": 23,
   "id": "a2a26cd6-8906-4bcf-bc67-cbe8ce747043",
   "metadata": {},
   "outputs": [
    {
     "name": "stdout",
     "output_type": "stream",
     "text": [
      "50 30.5\n",
      "type of num1: <class 'int'>\n",
      "type of num2: <class 'float'>\n"
     ]
    }
   ],
   "source": [
    "# solution task 1 variable assignment\n",
    "# what data type is following given value.\n",
    "num1 =50 \n",
    "num2 =30.5\n",
    "print(num1,num2)\n",
    "print(\"type of num1:\",type(num1))\n",
    "print(\"type of num2:\",type(num2))"
   ]
  },
  {
   "cell_type": "code",
   "execution_count": 25,
   "id": "77970164-a945-49f7-8c7d-10a5756302aa",
   "metadata": {},
   "outputs": [
    {
     "name": "stdout",
     "output_type": "stream",
     "text": [
      "addition: 80.5\n",
      "subtraction: 19.5\n",
      "Multiplication: 19.5\n",
      "floor division: 1.0\n"
     ]
    }
   ],
   "source": [
    "#task 2  operators\n",
    "num1 =50\n",
    "num2 =30.5\n",
    "print(\"addition:\",num1 + num2)\n",
    "print(\"subtraction:\",num1 - num2)\n",
    "print(\"Multiplication:\",num1 - num2)\n",
    "print(\"floor division:\",num1 // num2)\n",
    "\n"
   ]
  },
  {
   "cell_type": "code",
   "execution_count": 31,
   "id": "1f3804c4-fcc0-40bd-bfd6-612a52178531",
   "metadata": {},
   "outputs": [
    {
     "name": "stdout",
     "output_type": "stream",
     "text": [
      "Is a is greater than b: True\n"
     ]
    }
   ],
   "source": [
    "#task 3 compare two variables to check \n",
    "print(\"Is a is greater than b:\", num1>num2)"
   ]
  },
  {
   "cell_type": "code",
   "execution_count": 32,
   "id": "07f94ca2-a5ed-498d-8475-460739b26b89",
   "metadata": {},
   "outputs": [
    {
     "name": "stdout",
     "output_type": "stream",
     "text": [
      "value of num1 after swapping: 30.5\n",
      "value of num2 after swapping: 50\n"
     ]
    }
   ],
   "source": [
    "#task 4 =value swapping\n",
    "num1,num2 = num2 ,num1\n",
    "print(\"value of num1 after swapping:\", num1)\n",
    "print(\"value of num2 after swapping:\", num2)"
   ]
  },
  {
   "cell_type": "code",
   "execution_count": 34,
   "id": "8e98e8c4-0019-4859-8cec-fcdf6505325d",
   "metadata": {},
   "outputs": [],
   "source": [
    "number = 10\n",
    "if number < 0:\n",
    "    print(\"The number is positive\")"
   ]
  },
  {
   "cell_type": "code",
   "execution_count": 35,
   "id": "e3ad5d03-e3ac-442d-b04c-1b851e02f576",
   "metadata": {},
   "outputs": [
    {
     "name": "stdout",
     "output_type": "stream",
     "text": [
      "The number is not positive\n"
     ]
    }
   ],
   "source": [
    "number = -5\n",
    "if number > 0:\n",
    "    print(\"The number is positive\")\n",
    "else:\n",
    "    print(\"The number is not positive\")"
   ]
  },
  {
   "cell_type": "code",
   "execution_count": 36,
   "id": "6d3a021d-5abb-4f72-91a6-47000a06528e",
   "metadata": {},
   "outputs": [
    {
     "name": "stdout",
     "output_type": "stream",
     "text": [
      "wrong condition\n"
     ]
    }
   ],
   "source": [
    "num1 = 20\n",
    "if num1 > 20:\n",
    "    print(num1) \n",
    "else:\n",
    "    print(\"wrong condition\")"
   ]
  },
  {
   "cell_type": "code",
   "execution_count": 42,
   "id": "250c424d-1f31-4966-b466-5f89b1213544",
   "metadata": {},
   "outputs": [
    {
     "name": "stdout",
     "output_type": "stream",
     "text": [
      "The number is postive\n"
     ]
    }
   ],
   "source": [
    "num =5\n",
    "if num > 0:\n",
    "    print(\"The number is postive\")\n",
    "else:\n",
    "    print(\"The number is not postive\")\n",
    "    \n",
    "    \n"
   ]
  },
  {
   "cell_type": "code",
   "execution_count": 45,
   "id": "22893ae4-69f3-4a72-b055-ba5c520610c1",
   "metadata": {},
   "outputs": [
    {
     "name": "stdout",
     "output_type": "stream",
     "text": [
      "1\n",
      "2\n",
      "3\n",
      "4\n",
      "5\n"
     ]
    }
   ],
   "source": [
    "numbers =       [1,2,3,4,5]\n",
    "# index position starts with 0 : [0,1,2,3,4] \n",
    "# using a for loop to iterate through the list\n",
    "\n",
    "for a in numbers:\n",
    "    print(a)"
   ]
  },
  {
   "cell_type": "code",
   "execution_count": 47,
   "id": "651d465c-34f7-41be-9874-de6aad9f96ea",
   "metadata": {},
   "outputs": [
    {
     "data": {
      "text/plain": [
       "'RG'"
      ]
     },
     "execution_count": 47,
     "metadata": {},
     "output_type": "execute_result"
    }
   ],
   "source": [
    "#Index \n",
    "Names = [\"TG\" , \"SS\" , \"JS\" , \"NG\" , \"RG\"]\n",
    "Names[4] #"
   ]
  },
  {
   "cell_type": "code",
   "execution_count": 48,
   "id": "d1a20f8d-0634-4bed-9631-f25453785cd9",
   "metadata": {},
   "outputs": [
    {
     "name": "stdout",
     "output_type": "stream",
     "text": [
      "1\n",
      "6\n",
      "11\n",
      "16\n"
     ]
    }
   ],
   "source": [
    "#range (start, stop, step)\n",
    "x = range (1, 20, 5)\n",
    "for i in x:\n",
    "    print(i)"
   ]
  },
  {
   "cell_type": "code",
   "execution_count": null,
   "id": "0b59197d-7061-421f-95b5-426c137eb979",
   "metadata": {},
   "outputs": [],
   "source": []
  }
 ],
 "metadata": {
  "kernelspec": {
   "display_name": "Python 3 (ipykernel)",
   "language": "python",
   "name": "python3"
  },
  "language_info": {
   "codemirror_mode": {
    "name": "ipython",
    "version": 3
   },
   "file_extension": ".py",
   "mimetype": "text/x-python",
   "name": "python",
   "nbconvert_exporter": "python",
   "pygments_lexer": "ipython3",
   "version": "3.12.7"
  }
 },
 "nbformat": 4,
 "nbformat_minor": 5
}
