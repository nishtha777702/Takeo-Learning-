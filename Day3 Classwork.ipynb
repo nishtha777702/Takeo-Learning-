{
 "cells": [
  {
   "cell_type": "code",
   "execution_count": 1,
   "id": "d6669489-21e7-4193-b791-6a3f956f5ccc",
   "metadata": {},
   "outputs": [
    {
     "name": "stdout",
     "output_type": "stream",
     "text": [
      "students enrolled in both courses:  {'David'}\n"
     ]
    }
   ],
   "source": [
    "# sets (unorderd ,immutable)\n",
    "# Create two sets of students enrolled in different courses and find the students who are enrolled in both courses.\n",
    "\n",
    "Course_1_students = {\"Alice\" , \"Bob\" , \"David\" , \"Emma\"}\n",
    "Course_2_students = {\"David\" , \"Raya\" , \"Grace\" , \"hanah\"}\n",
    "\n",
    "students_in_both_courses = Course_1_students & Course_2_students\n",
    "print(\"students enrolled in both courses: \", students_in_both_courses)"
   ]
  },
  {
   "cell_type": "code",
   "execution_count": 2,
   "id": "69469abd-b149-4f38-b254-f396592aa07b",
   "metadata": {},
   "outputs": [
    {
     "name": "stdout",
     "output_type": "stream",
     "text": [
      "Final list of the movie: ['Venom', 'Matrix', 'Ironman', 'Thor', 'Inception', 'God of Thunder']\n"
     ]
    }
   ],
   "source": [
    "# Create a list of your top 5 favorite movies, and practice adding, removing, and accessing them.\n",
    "# List (ordered changeable,mutable) \n",
    "favorite_movies = [\"Venom\" , \"Matrix\" , \"Ironman\" , \"Thor\", \"Inception\"]\n",
    "\n",
    "#adding a movie\n",
    "favorite_movies.append(\"God of Thunder\")\n",
    "print(\"Final list of the movie:\", favorite_movies)\n"
   ]
  },
  {
   "cell_type": "code",
   "execution_count": 3,
   "id": "73a93aa2-3b36-4e94-a4dc-e1ff90c7c2a8",
   "metadata": {},
   "outputs": [
    {
     "name": "stdout",
     "output_type": "stream",
     "text": [
      "Final selection list: ['Venom', 'Matrix', 'Ironman', 'Inception']\n",
      "first movie:  Venom\n",
      "last movie:  Inception\n"
     ]
    }
   ],
   "source": [
    "#  removing from the list\n",
    "favorite_movies = [\"Venom\" , \"Matrix\" , \"Ironman\" , \"Thor\", \"Inception\"]\n",
    "favorite_movies.remove(\"Thor\")\n",
    "print(\"Final selection list:\" , favorite_movies)\n",
    "\n",
    "print(\"first movie: \", favorite_movies[0])# accessing 1st movie list\n",
    "print(\"last movie: \", favorite_movies[-1]) # acessing last movie list"
   ]
  },
  {
   "cell_type": "code",
   "execution_count": 4,
   "id": "3896d8dc-934e-451b-8c84-8e60865c335c",
   "metadata": {},
   "outputs": [
    {
     "name": "stdout",
     "output_type": "stream",
     "text": [
      "Title: Atomic habits\n",
      "Author: J.C\n",
      "Publication Year: 2018\n"
     ]
    }
   ],
   "source": [
    "# Create a tuple with information about your favorite book (title, author, publication year) and print each element.\n",
    "#tuple (ordered changeable,mutable) \n",
    "\n",
    "favorite_book = (\"Atomic habits\", \"J.C\" , \"2018\")\n",
    "print(\"Title:\",favorite_book[0])\n",
    "print(\"Author:\",favorite_book[1])\n",
    "print(\"Publication Year:\",favorite_book[2])"
   ]
  },
  {
   "cell_type": "code",
   "execution_count": 5,
   "id": "48c92973-8ab1-48f0-a642-38169d38f59c",
   "metadata": {},
   "outputs": [
    {
     "name": "stdout",
     "output_type": "stream",
     "text": [
      "{'apple': 2.99, 'banana': 0.59, 'cheese': 4, 'bread': 5, 'orange': 2}\n",
      "{'apple': 2.99, 'banana': 0.99, 'cheese': 4, 'bread': 5, 'orange': 2}\n",
      "{'apple': 2.99, 'banana': 0.99, 'bread': 5, 'orange': 2}\n"
     ]
    }
   ],
   "source": [
    "#Create a dictionary that stores the prices of 5 items from a grocery store. Practice adding, updating, and removing items.\n",
    "\n",
    "grocery_prices = {\n",
    "    \"apple\": 2.99,\n",
    "    \"banana\":0.59,\n",
    "    \"cheese\" :4,\n",
    "    \"bread\" :5,\n",
    "}\n",
    "# adding an new iteam to the dictionary\n",
    "\n",
    "grocery_prices[\"orange\"] = 2\n",
    "print(grocery_prices)\n",
    "\n",
    "# update price\n",
    "\n",
    "grocery_prices[\"banana\"] = 0.99\n",
    "print(grocery_prices)\n",
    "\n",
    "# delet the item on the list\n",
    "del grocery_prices[\"cheese\"]\n",
    "print(grocery_prices)"
   ]
  }
 ],
 "metadata": {
  "kernelspec": {
   "display_name": "Python 3 (ipykernel)",
   "language": "python",
   "name": "python3"
  },
  "language_info": {
   "codemirror_mode": {
    "name": "ipython",
    "version": 3
   },
   "file_extension": ".py",
   "mimetype": "text/x-python",
   "name": "python",
   "nbconvert_exporter": "python",
   "pygments_lexer": "ipython3",
   "version": "3.12.7"
  }
 },
 "nbformat": 4,
 "nbformat_minor": 5
}
