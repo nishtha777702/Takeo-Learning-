{
 "cells": [
  {
   "cell_type": "code",
   "execution_count": 5,
   "id": "dde21f66-13e9-4038-9f2a-09f46b831cdf",
   "metadata": {},
   "outputs": [],
   "source": [
    "# Load the titanic Dataset\n",
    "\n",
    "import pandas as pd\n",
    "import numpy as np\n",
    "import matplotlib.pyplot as plt\n",
    "import seaborn as sns\n",
    "\n",
    "# 1.Load the dataset\n",
    "df = pd.read_csv('titanic.csv')"
   ]
  },
  {
   "cell_type": "code",
   "execution_count": 15,
   "id": "01ac765b-5e5c-491a-ab22-68f79868c275",
   "metadata": {},
   "outputs": [
    {
     "name": "stdout",
     "output_type": "stream",
     "text": [
      "   PassengerId  Survived  Pclass  \\\n",
      "0            1         0       3   \n",
      "1            2         1       1   \n",
      "2            3         1       3   \n",
      "3            4         1       1   \n",
      "4            5         0       3   \n",
      "\n",
      "                                                Name     Sex   Age  SibSp  \\\n",
      "0                            Braund, Mr. Owen Harris    male  22.0      1   \n",
      "1  Cumings, Mrs. John Bradley (Florence Briggs Th...  female  38.0      1   \n",
      "2                             Heikkinen, Miss. Laina  female  26.0      0   \n",
      "3       Futrelle, Mrs. Jacques Heath (Lily May Peel)  female  35.0      1   \n",
      "4                           Allen, Mr. William Henry    male  35.0      0   \n",
      "\n",
      "   Parch            Ticket     Fare Cabin Embarked  \n",
      "0      0         A/5 21171   7.2500   NaN        S  \n",
      "1      0          PC 17599  71.2833   C85        C  \n",
      "2      0  STON/O2. 3101282   7.9250   NaN        S  \n",
      "3      0            113803  53.1000  C123        S  \n",
      "4      0            373450   8.0500   NaN        S  \n",
      "<class 'pandas.core.frame.DataFrame'>\n",
      "Index: 889 entries, 0 to 890\n",
      "Data columns (total 12 columns):\n",
      " #   Column       Non-Null Count  Dtype  \n",
      "---  ------       --------------  -----  \n",
      " 0   PassengerId  889 non-null    int64  \n",
      " 1   Survived     889 non-null    int64  \n",
      " 2   Pclass       889 non-null    int64  \n",
      " 3   Name         889 non-null    object \n",
      " 4   Sex          889 non-null    object \n",
      " 5   Age          889 non-null    float64\n",
      " 6   SibSp        889 non-null    int64  \n",
      " 7   Parch        889 non-null    int64  \n",
      " 8   Ticket       889 non-null    object \n",
      " 9   Fare         889 non-null    float64\n",
      " 10  Cabin        202 non-null    object \n",
      " 11  Embarked     889 non-null    object \n",
      "dtypes: float64(2), int64(5), object(5)\n",
      "memory usage: 90.3+ KB\n",
      "None\n"
     ]
    }
   ],
   "source": [
    "# 2. Inspect the Data \n",
    "\n",
    "# display the first few rows of the dataset\n",
    "print(df.head()) # will display 5 indec by default\n",
    "\n",
    "# Check the data types and number of non-null values\n",
    "print(df.info())"
   ]
  },
  {
   "cell_type": "code",
   "execution_count": 19,
   "id": "2fcee6b6-c4c2-44ae-8936-3c2902c3696c",
   "metadata": {},
   "outputs": [
    {
     "name": "stdout",
     "output_type": "stream",
     "text": [
      "       PassengerId    Survived      Pclass         Age       SibSp  \\\n",
      "count   889.000000  889.000000  889.000000  889.000000  889.000000   \n",
      "mean    446.000000    0.382452    2.311586   29.315152    0.524184   \n",
      "std     256.998173    0.486260    0.834700   12.984932    1.103705   \n",
      "min       1.000000    0.000000    1.000000    0.420000    0.000000   \n",
      "25%     224.000000    0.000000    2.000000   22.000000    0.000000   \n",
      "50%     446.000000    0.000000    3.000000   28.000000    0.000000   \n",
      "75%     668.000000    1.000000    3.000000   35.000000    1.000000   \n",
      "max     891.000000    1.000000    3.000000   80.000000    8.000000   \n",
      "\n",
      "            Parch        Fare  \n",
      "count  889.000000  889.000000  \n",
      "mean     0.382452   32.096681  \n",
      "std      0.806761   49.697504  \n",
      "min      0.000000    0.000000  \n",
      "25%      0.000000    7.895800  \n",
      "50%      0.000000   14.454200  \n",
      "75%      0.000000   31.000000  \n",
      "max      6.000000  512.329200  \n"
     ]
    }
   ],
   "source": [
    "# Get summary statistics for numerical columns\n",
    "print(df.describe())"
   ]
  },
  {
   "cell_type": "code",
   "execution_count": 20,
   "id": "d859c44b-9bdb-4c18-ba5a-876ae5f52e2a",
   "metadata": {},
   "outputs": [
    {
     "name": "stdout",
     "output_type": "stream",
     "text": [
      "PassengerId      0\n",
      "Survived         0\n",
      "Pclass           0\n",
      "Name             0\n",
      "Sex              0\n",
      "Age              0\n",
      "SibSp            0\n",
      "Parch            0\n",
      "Ticket           0\n",
      "Fare             0\n",
      "Cabin          687\n",
      "Embarked         0\n",
      "dtype: int64\n"
     ]
    }
   ],
   "source": [
    "# 3. Handle Missing Values\n",
    "# Check for missing values in each column\n",
    "print(df.isnull().sum())"
   ]
  },
  {
   "cell_type": "code",
   "execution_count": 22,
   "id": "2a7fc37c-c013-4d75-ac40-0ddb76a11384",
   "metadata": {},
   "outputs": [],
   "source": [
    "# Fill missing 'Age' values with the median (without using inplace=True)\n",
    "df['Age'] = df['Age'].fillna(df['Age'].median())"
   ]
  },
  {
   "cell_type": "code",
   "execution_count": 23,
   "id": "d7817535-4548-4eae-be52-be235c2b290d",
   "metadata": {},
   "outputs": [],
   "source": [
    "# Drop rows with missing 'Embarked' values\n",
    "df.dropna(subset=['Embarked'], inplace=True)"
   ]
  },
  {
   "cell_type": "code",
   "execution_count": 24,
   "id": "6492d30c-a998-41f7-8cdc-d61e6d88fa8a",
   "metadata": {},
   "outputs": [
    {
     "data": {
      "image/png": "[encoded data removed]",
      "text/plain": [
       "<Figure size 640x480 with 1 Axes>"
      ]
     },
     "metadata": {},
     "output_type": "display_data"
    }
   ],
   "source": [
    "# 4. Detect and Handle Outliers\n",
    "# Create a box plot for 'Fare' to detect outliers\n",
    "sns.boxplot(x=df['Fare'])\n",
    "plt.show()"
   ]
  },
  {
   "cell_type": "code",
   "execution_count": 25,
   "id": "82a58c7a-792b-467a-a61d-34b64955ff23",
   "metadata": {},
   "outputs": [],
   "source": [
    "# Remove outliers in 'Fare' using the IQR method\n",
    "Q1 = df['Fare'].quantile(0.25)\n",
    "Q3 = df['Fare'].quantile(0.75)\n",
    "IQR = Q3 - Q1\n",
    "df = df[(df['Fare'] >= (Q1 - 1.5 * IQR)) & (df['Fare'] <= (Q3 + 1.5 * IQR))] # formula"
   ]
  },
  {
   "cell_type": "code",
   "execution_count": 26,
   "id": "1a501064-ea33-486a-aca9-550227c99e61",
   "metadata": {},
   "outputs": [],
   "source": [
    "# 5. Feature Engineering\n",
    "# Create a new feature 'FamilySize' from 'SibSp' and 'Parch'\n",
    "df['FamilySize'] = df['SibSp'] + df['Parch'] + 1"
   ]
  },
  {
   "cell_type": "code",
   "execution_count": 27,
   "id": "cc29231d-759d-4a10-8f95-9b671c3dcf6c",
   "metadata": {},
   "outputs": [],
   "source": [
    "# 6. Convert Categorical Variables\n",
    "# One-hot encode the 'Embarked' column\n",
    "df = pd.get_dummies(df, columns=['Embarked'], drop_first=True)"
   ]
  },
  {
   "cell_type": "code",
   "execution_count": 28,
   "id": "50ea9af9-bb67-4ce3-b7ba-2acf9a939f5d",
   "metadata": {},
   "outputs": [],
   "source": [
    "# Label encode the 'Sex' column (male = 0, female = 1)\n",
    "df['Sex'] = df['Sex'].map({'male': 0, 'female': 1})"
   ]
  },
  {
   "cell_type": "code",
   "execution_count": 29,
   "id": "98b65bcf-1df5-4289-be66-65b57e51ca19",
   "metadata": {},
   "outputs": [],
   "source": [
    "# 7. Sample the Data\n",
    "# Sample 10% of the data\n",
    "sampled_df = df.sample(frac=0.1, random_state=42)"
   ]
  },
  {
   "cell_type": "code",
   "execution_count": 32,
   "id": "5da2594c-c1a2-4b4a-9bad-ca5f0989d945",
   "metadata": {},
   "outputs": [
    {
     "name": "stdout",
     "output_type": "stream",
     "text": [
      "   PassengerId  Survived  Pclass  \\\n",
      "0            1         0       3   \n",
      "2            3         1       3   \n",
      "3            4         1       1   \n",
      "4            5         0       3   \n",
      "5            6         0       3   \n",
      "\n",
      "                                           Name  Sex   Age  SibSp  Parch  \\\n",
      "0                       Braund, Mr. Owen Harris    0  22.0      1      0   \n",
      "2                        Heikkinen, Miss. Laina    1  26.0      0      0   \n",
      "3  Futrelle, Mrs. Jacques Heath (Lily May Peel)    1  35.0      1      0   \n",
      "4                      Allen, Mr. William Henry    0  35.0      0      0   \n",
      "5                              Moran, Mr. James    0  28.0      0      0   \n",
      "\n",
      "             Ticket     Fare Cabin  FamilySize  Embarked_Q  Embarked_S  \n",
      "0         A/5 21171   7.2500   NaN           2       False        True  \n",
      "2  STON/O2. 3101282   7.9250   NaN           1       False        True  \n",
      "3            113803  53.1000  C123           2       False        True  \n",
      "4            373450   8.0500   NaN           1       False        True  \n",
      "5            330877   8.4583   NaN           1        True       False  \n"
     ]
    }
   ],
   "source": [
    "# Display the cleaned dataset\n",
    "print(df.head())"
   ]
  },
  {
   "cell_type": "code",
   "execution_count": null,
   "id": "eca00003-cb3c-48ed-8fcd-51e958ce7ca6",
   "metadata": {},
   "outputs": [],
   "source": []
  }
 ],
 "metadata": {
  "kernelspec": {
   "display_name": "Python 3 (ipykernel)",
   "language": "python",
   "name": "python3"
  },
  "language_info": {
   "codemirror_mode": {
    "name": "ipython",
    "version": 3
   },
   "file_extension": ".py",
   "mimetype": "text/x-python",
   "name": "python",
   "nbconvert_exporter": "python",
   "pygments_lexer": "ipython3",
   "version": "3.12.7"
  }
 },
 "nbformat": 4,
 "nbformat_minor": 5
}
