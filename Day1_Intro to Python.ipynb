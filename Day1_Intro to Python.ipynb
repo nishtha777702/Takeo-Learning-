{
 "cells": [
  {
   "cell_type": "code",
   "execution_count": null,
   "id": "79ec4cc6-b8cf-4652-8395-658bbe7b649f",
   "metadata": {},
   "outputs": [],
   "source": [
    ".ipynb \n",
    "i -Interactive\n",
    "py-python\n",
    "nb-notebook\n",
    "\n",
    "Each block is called as cells."
   ]
  },
  {
   "cell_type": "markdown",
   "id": "16f8d22a-f3b1-4daa-a5b5-cd254465f860",
   "metadata": {},
   "source": [
    "\n",
    "Link : https://docs.python.org/3/tutorial/index.html\n",
    "# syntax : grammer of a language\n",
    "# sementics-issue with logic"
   ]
  },
  {
   "cell_type": "markdown",
   "id": "7452d4c6-5c12-4671-af0b-e5fe443b2161",
   "metadata": {},
   "source": [
    "Python is an easy to learn, powerful programming language : paragraph 1\n",
    "- Python looks like a plain enligh language,making it simple to learn.\n",
    "- No need to specify datatype whether it is number or text;python figure it out.\n",
    "- Runs line by line code ,which means you donot need to compile the code first. save times (test the code quickly).\n",
    "- Pythons runs on any computer like windows,mac,linux without changes.\n",
    "- Python also has a built in function to handle calcualtion,text files so no need to start from scratch.\n",
    "- Python is used by varieties of users :can build websites,analyze date,automate tasks or even make games.\n",
    "- Easy to look into the solutions online(Big community).\n",
    "Paragraph 2\n",
    "- Can download python from pyton.org install in windows,mac or linux\n",
    "- Python has \"standard library\",which includes pre-made fucntions for handling files,doing math and working with internet and more.\n",
    "- Many helpful tools available for web development,data science,gaming and more\n",
    "- Python can work with other programming language (c or c++) to make it run faster or add new features.\n",
    "- Python can be added to other software to make it more customizable ; eg : some video games or design software allow users to write python scripts to automate tasks.\n",
    "paragraph 3 -references\n",
    "-Python standard library: lists built-in tools and features.\n",
    "-Python language reference-A formal guide for advanced users.\n",
    "-c/c++ extensions-if you want to expand python using c or c++ check the extending and embedding python guide."
   ]
  },
  {
   "cell_type": "code",
   "execution_count": 1,
   "id": "8d942565-5c40-45f8-bb14-51f8bc903760",
   "metadata": {},
   "outputs": [
    {
     "name": "stdout",
     "output_type": "stream",
     "text": [
      "Hello,Python!\n"
     ]
    }
   ],
   "source": [
    "print(\"Hello,Python!\")"
   ]
  },
  {
   "cell_type": "code",
   "execution_count": 8,
   "id": "78c4434e-b4fc-4f36-961e-29c4a9b8e564",
   "metadata": {},
   "outputs": [
    {
     "data": {
      "text/plain": [
       "30"
      ]
     },
     "execution_count": 8,
     "metadata": {},
     "output_type": "execute_result"
    }
   ],
   "source": [
    "#Sum of two numbers\n",
    "num1 = 10\n",
    "num2 = 20\n",
    "sum = num1 + num2\n",
    "sum"
   ]
  },
  {
   "cell_type": "code",
   "execution_count": 9,
   "id": "847497e9-1134-4a58-a220-30ef03d92e30",
   "metadata": {},
   "outputs": [
    {
     "name": "stdout",
     "output_type": "stream",
     "text": [
      " a is 10 and b is 25\n"
     ]
    }
   ],
   "source": [
    "#assign a variable\n",
    "a = 10\n",
    "b = 25\n",
    "#print the values using an f string (formatted string literal)\n",
    "print(f\" a is {a} and b is {b}\")"
   ]
  }
 ],
 "metadata": {
  "kernelspec": {
   "display_name": "Python 3 (ipykernel)",
   "language": "python",
   "name": "python3"
  },
  "language_info": {
   "codemirror_mode": {
    "name": "ipython",
    "version": 3
   },
   "file_extension": ".py",
   "mimetype": "text/x-python",
   "name": "python",
   "nbconvert_exporter": "python",
   "pygments_lexer": "ipython3",
   "version": "3.12.7"
  }
 },
 "nbformat": 4,
 "nbformat_minor": 5
}
